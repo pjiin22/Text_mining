{
 "cells": [
  {
   "cell_type": "code",
   "execution_count": 1,
   "metadata": {},
   "outputs": [],
   "source": [
    "import time\n",
    "from bs4 import BeautifulSoup\n",
    "from selenium import webdriver\n",
    "from selenium.webdriver.common.by import By\n",
    "from selenium.webdriver.common.keys import Keys\n",
    "import undetected_chromedriver as uc"
   ]
  },
  {
   "cell_type": "code",
   "execution_count": 2,
   "metadata": {},
   "outputs": [],
   "source": [
    "driver = uc.Chrome()"
   ]
  },
  {
   "cell_type": "code",
   "execution_count": 3,
   "metadata": {},
   "outputs": [],
   "source": [
    "driver.get('https://www.amazon.com/dalba-Piedmont-Light-weight-Moisturizer-Comedogenic/product-reviews/B0BFQ9RD5B/ref=cm_cr_getr_d_paging_btm_prev_1?ie=UTF8&reviewerType=all_reviews&filterByStar=one_star&pageNumber=1')"
   ]
  },
  {
   "cell_type": "code",
   "execution_count": 13,
   "metadata": {},
   "outputs": [
    {
     "data": {
      "text/plain": [
       "'If you are someone who regularly purges when trying a new product, know that this product will cause a terrible purge. I used this multiple times a day for two days, and by the third day, my face was full of red acne, which was very painful. I discontinued use of this product and all of my acne went away. I would not recommend it if you have a similar oily skin type that is sensitive to new products. It was a good deal, though.'"
      ]
     },
     "execution_count": 13,
     "metadata": {},
     "output_type": "execute_result"
    }
   ],
   "source": [
    "driver.find_elements(By.CSS_SELECTOR,'span.a-size-base.review-text.review-text-content')[1].text"
   ]
  },
  {
   "cell_type": "markdown",
   "metadata": {
    "jp-MarkdownHeadingCollapsed": true
   },
   "source": [
    "## 개별 점수"
   ]
  },
  {
   "cell_type": "markdown",
   "metadata": {},
   "source": [
    "### 1점"
   ]
  },
  {
   "cell_type": "code",
   "execution_count": 20,
   "metadata": {},
   "outputs": [
    {
     "data": {
      "text/plain": [
       "['I use it and it shows your skin glow but your skin still dry. If you go to sleep which I did because I used after bathe at night. I woke up with all my pillow lines in my face. My face usually feels humectant, but this time feels dry even it look humectant but with line of expressions. I use it 3 more times, it smells pire chemicals. If you open your mouth to breath it taste like perfume or deodorant. I decided to return it qnd they send me another one. Of course I don’t want to look older so I returned both. The refund process takes ONE MONTH and Half, yes, 45 days plus with a note saying they will charge you according with the amount you used it or the condition of the return and add 7 more days foe your bank make available the money. Definitely I can tell they use cheap product and make an effort to look it nice. I returned to my Japanese skin care.',\n",
       " 'If you are someone who regularly purges when trying a new product, know that this product will cause a terrible purge. I used this multiple times a day for two days, and by the third day, my face was full of red acne, which was very painful. I discontinued use of this product and all of my acne went away. I would not recommend it if you have a similar oily skin type that is sensitive to new products. It was a good deal, though.',\n",
       " 'I tried so hard to like thus spray but unfortunately it irritated my forehead to the point that it was peeling. It also clogged my pores a lot and I broke out and I am not one to break out like that, never really have and I am almost 42 years old. I was convinced it was the spray because it was the only new thing on my face. Unfortunately I will not be purchasing this spray again.',\n",
       " 'This serum has artificial fragrance and therefore it is not suitable for sensitive or acne prone skin..the fragrance will disrupt your natural ph and skin barrier, so no matter how many good ingredients are in there, it all goes down the drain once the fragrance is added.',\n",
       " 'First off I want to say I don’t have sensitive skin. This stuff burnt around my eyes so bad that they were swollen. It also has a very strong smell like an old grandma. I wouldn’t ever use this again.',\n",
       " 'I received the product and use it. It has a beautiful smell but it is not Dewey whatsoever. It is sticky and tacky and it leaves no glow. The only reason I purchased the product is because of the Beautiful Dewey glow that it says in the advertisement. It does not work that way, there is no shine, no do, no glow. Just sticky skin. Do not recommend',\n",
       " 'Believed the hype and bought a bottle. Felt awful when reading the box that it’s “rigorously tested” for human skin which implies animal cruelty. No cruelty free badge on product. This is also VERY heavily perfumed/floral fragrance.',\n",
       " \"I was excited when the product arrived at my doorstep. So I tried it on my wrist first in case the product would irritate my skin. It was a nice spray application and the texture felt silky, however.... the smell! It is a cross between wet leaves and foot odor... This is definitely going back! I couldn't imagine misting my whole face with it!\",\n",
       " 'Save your money, this spray/ serum is not worth the hype at all. It almost has a burning feeling on your face and leaves you sticky and tacky.',\n",
       " 'After reading great reviews and watching many videos on youtube I decided to give it a try. I must be allergic to any ingredient that it contains, almost my full face had an allergic reaction to it. It burned and even it still hurts after I stopped using it.',\n",
       " 'This smells so bad! It also does not moisturize at all. Didn’t do a thing for my face and I use it twice a day and have since I bought it. I truly can’t believe the scent of this stuff. It’s horrendous. Would never buy again.',\n",
       " 'I used six pumps and it still didn’t hydrate my skin. Yes, it looks shiny at first but then it evaporates. I’ve even tried reapplying it and my skin feels tight and dry within 15 minutes (just as if I sprayed plain water on it).\\nQuite disappointed in the quality of this product. Don’t waste your money.\\nChecked on several of the 5 star reviews and they only reviewed this one product. Quite suspicious.',\n",
       " 'As soon as I spray my face with this product started itching and burning. This product is not suitable for people with sensitive skin. You need to do test before you apply this product.',\n",
       " 'I broke out so badly with this product that I was shocked my face looked like I was going thru puberty. I threw it away.',\n",
       " 'No lo recomiendo para pieles sensibles me dio alergia de inmediato decepcionada por que tenía buenas expectativas del producto.',\n",
       " \"This spray has a very strong, cheap, dime store perfume scent. The odor upsets my stomach and gives me sneezing fits.\\nAs well, my face becomes bright red and irritated post spray. I look like I have a severe sunburn.\\nI notice that my eyes become very dry after using this product. So much so that I require lubricating eye drops, which I rarely use.\\nThere's a metallic shimmer to this spray that concerns me. None of my skin care products include metals. So odd.\\nIf you do use this spray I would advise caution. This seems to be a very harsh product.\",\n",
       " 'El suero me llegó por la mitad del frasco y deteriorada la etiqueta',\n",
       " \"During the inital spray it appears it'll hydrate your skin. Within seconds it feels like you have used rubbing alcohol all over your face.\",\n",
       " 'First of all the seller shipped item very fast and was in great condition so that should be known. The product itself however was awful though. Smell does NOT dissipate like others mentioned, it lingers on the skin so long and it’s not pleasant, its very strong and smells like a heavy older perfume. If you’re sensitive to smells please pass on this. I couldn’t get past it, smells synthetic with a mix of some type of essential oils. I’m glad I first tried it on my hand and didn’t spray on my face. Sadly, I can’t mention anything about the skincare benefits bc I couldn’t get past the smell. I will be returning.',\n",
       " \"This smells aweful. Like cheap old lady dime store perfume. Spraying it on your face means you keep smelling it. I tried it once and can't do it again. It DOES NOT smell nice and citrusy as described.\",\n",
       " 'I wanted to love this like everyone else but I don’t. The scent is a very strong perfume-y chemical type scent first off, so if you’re sensitive to that don’t buy this! Also, I tried it as soon as I got it, excited about it, and shortly after spraying on my face I started experiencing a burning sensation. I wouldn’t say I have sensitive skin so I’m not sure what was happening with that. I washed it off shortly after feeling the burning and I’m hoping it doesn’t continue to affect my skin. I also felt a tightness like it was more drying than hydrating. Needless to say I’m returning the product.',\n",
       " 'The spray serum is not suitable to my skin type , and I had allergic signs after 2 days of using it.',\n",
       " 'I heard about how amazing this product is. The main issue is that it’s scented and the scent is of an old lady perfume. Which doesn’t dissipate! So, I am returning it. Too bad!',\n",
       " 'When I received the box it was already opened. The bottle was 25% used up. Never ordered again.',\n",
       " 'I couldn’t try it because of ingredients',\n",
       " 'I thought this was a good product but after a few uses my eyes broke out in hives. I have pretty sensitive skin but I thought this would be fine. I guess not.',\n",
       " 'Me pareció una estafa.',\n",
       " 'The oil just sits on very top and perhaps it’s not the real thing',\n",
       " \"I liked the product BUT after almost a week and a half of having used it, the liquid became very ugly with an expired appearance with lumps but it had not expired yet. I don't know if that only happened to me but it's my experience with the product. For oily or combination skin I don't recommend it very much since it is more prone to acne.\",\n",
       " 'deff not worth the price, product does nothing',\n",
       " 'Smells burns and does absolutely nothing',\n",
       " 'It’s like spraying water on your face with essential oils. No glow at all. Extremely disappointed. Would not recommend.',\n",
       " 'The product came with no box and no top cap. Just placed in the plastic bag. It looks like used. I dont want to try and I have to return it.',\n",
       " 'Not as expected',\n",
       " 'The box was torn open and the bottle had makeup stains on it. It had obviously been used by someone before it was sent to me.',\n",
       " \"I am not generally prone to acne, but I used this two times and my nose broke out horribly with little pimples and what almost look like blisters. I wish it had worked for me, but it didn't\",\n",
       " 'Burned when applying and broke out while drying out skin',\n",
       " 'I seen this on TikTok and I thought it would be good. I bought something else like this and the exact same thing happened burn your eyes burn your lips not worth it people.',\n",
       " 'Saw this on TikTok, selling the “glass skin” from using this product. Anything wet will look like “glass,” but pretty useless spplixation once it dries up . WASTE OF MONEY! TOO EXPENSIVE!!!',\n",
       " 'Not at all what picture shows!!!',\n",
       " 'The product did absolutely nothing to my face. The reviews and video is definitely misleading',\n",
       " 'Do nothing',\n",
       " 'I got two bottles but one of it was broken. I am not happy with it because I was expecting a new product not damaged one.',\n",
       " 'I didn’t like anything about this product, didn’t moisturizer one bit, if anything it dried my skin. No redness or itching though. Those videos showing the faces so wet, where did they get them! I rate a minus if I could.',\n",
       " \"If you want a product that will give you a quick glow this offers that however it doesn't last long. I will not purchase again.\",\n",
       " 'Watched many videos and thought I picked a winner. Have been using for 5 days and haven’t noticed any difference at all. My forehead looks greasy not glowing. The rest of my face looks the same. Won’t be purchasing again. Bummer',\n",
       " \"I admit I got sucked into all the reviews. It gives a glowy look. But all accentuates wrinkles and pores. I'm thinking if your 20 and want a glowy look this would be good. But not at 40 looking g for moisture. Also I try and do fragrance free. This does have a fragrance it's ok. It burnedmy eyes even closing them so I tried to just spray in my hand which didn't work because it's not really an oil.\",\n",
       " 'This product irritates my skin. Stinging feeling that doesn’t go away until you wash it off. There is a slight glow but you can get that same glow with a tinted SPF or highlighter. Nothing special. Definitely don’t think it is worth what it cost. Overrated in my opinion. Gave it one star because you do have a slight glow. Lastly, the scent… no good.',\n",
       " 'It doesn’t give that shine at all and it’s just dry',\n",
       " \"This product does not give your skin enough moisture. It's not ideal for mature skin. It does not have anti-aging properties. I have used many other serum/oils sprays that are much better than this.\",\n",
       " 'The product is great, except for the fact that is heavily scented. It smells lovely. However, I do not want the smell to consume my day. I wish the product was unscented.',\n",
       " 'Spray didn’t work out for me unfortunately. Broke out all over and caused redness and no shine. I don’t recommend',\n",
       " 'At best, this is a mediocre product. It left my skin tacky and didn’t provide any significant hydration. I am not a fan.\\n\\nI’ve mixed my own water/oil sprays, which have worked far better for me and are customized to my needs. But I thought I’d give this a try. I’m going to keep making my own hydrating sprays and return this one. It certainly wasn’t worth the discounted ($18) price tag.',\n",
       " 'A quarter of the product is spilled',\n",
       " \"Very watery don't buy!\",\n",
       " 'Only reason I give 1 star it made my face itch so much and tasted so bad! Since it is a mist it is bound to get in your mouth. I can see it being a great item but just not for me.',\n",
       " 'After applying the product my faces is glossy because of the water in the product but as soon as the product absorbs my face feels dry. I was hoping this product was good but unfortunately I don’t recommended.',\n",
       " 'I do want to support small companies but sometimes they think they’re so greater than famous existing companies and priced themselves too high. Like this company.. ugh… sadly, the mist is barely ok, mediocre at best. It does not do much on your skin. Plus it leaves sticky and oily residue on the skin. No thanks for the price and the quality! Just gonna go back to USDA organic rose water which is less than half of this price and still organic and fresh!',\n",
       " 'No me gustó, desde que lo comence a usar me salio granos alrededor de todo el labio de abajo, no es lo que esperaba no lo recomiendo, no es nada grandioso como dicen ,no vale la pena',\n",
       " 'I bought this product because I saw a video that said it left the skin well moisturized and it a complete LIE. There’s just a speck of serum and the rest is liquid. Would not be surprised if it’s just water. NEVER AGAIN.',\n",
       " 'i bought this product 2 months ago for $18. and now they’re bumping up the price from $18 to $36??? pls, it’s not worth that much',\n",
       " \"Gave me a rash but I didn't think it gave me a glow\",\n",
       " 'mal producto',\n",
       " 'I returned after I started noticing I was getting breakouts after spraying this. I have normal-dry skin and usually don’t have problems with face products.',\n",
       " 'I did not use it because the it had already been open.',\n",
       " 'The smell is terrible and gives me a bad head ache.',\n",
       " 'And on top of it, smells like bug spray 🙄',\n",
       " 'I was so excited about this product, I saw so many videos and reviews about it. First time using it and I had a burning sensation, I had an allergic reaction to it. I don’t have sensitive skin neither Im allergic to anything. I don’t know what happened but it burns and left some ugly texture on my face 😭😭😭😭😭\\nBE CAREFUL!!!!',\n",
       " 'This products smells really strongly of artificial fragrance. It did make my skin feel good but the amount I had to put on my face to make it wet, also made me nauseous by the strong smell. It smells like a bathroom air freshener. It made my skin burn and I had to wash it off. Do not get this if you are sensitive to smell or have sensitive skin.',\n",
       " 'Smelled awful though, got headaches with this one too! Had to return!',\n",
       " 'Not a good product for me. It leaves your face like cardboard. Difficult to move and it doesn’t provide you any moisture to the contrary. I don’t recommend this product at all.',\n",
       " 'No vi ningún cambio en mi piel',\n",
       " \"I was not impressed by this spray serum. The first time I tried It, I felt my face with a burning sensation, and it had a strong fragrance that I didn't like.\",\n",
       " 'Took this to my NYE party and it got passed around with a few people trying it and we all had the same reaction…. Did not hydrate the skin and the fragrance was way too strong and smells awful. Also gives a burning sensation when first applied.',\n",
       " 'I bought the White Truffle Sheet masks and used ONE, which made my skin as dry as the desert.\\nSo, I applied this serum oil for moisture.\\nIt didn\\'t work.\\nThe next day, I had a bad rash on my face.\\nI might be allergic to \"white truffles\".\\nMy skin rash looks so bad, I\\'m too scared to use this oil again.\\nForget it.',\n",
       " 'I couldn’t even get past on capping the serum. I couldn’t put that anywhere near my body. Why have such a natural product and then stick some synthetic hormone disrupting smell in there? There are wonderful essential oils out there',\n",
       " 'No es un producto legítimo te queda la cara con una sensación pegajosa',\n",
       " 'I have an app that tells you if products are safe and this came up. How sad Amazon is calling something hazardous as an Amazon choice. I hope this helps people. It also burnt my face',\n",
       " 'I couldn’t wash this off fast enough and I’m even more eager to return it. It smells like old lady perfume and made me feel as if I haven’t washed my face in weeks. Very disappointed.',\n",
       " 'Leaves a god awful after film and makes hands turn orange',\n",
       " 'this was a scam in a bottle. I returned this',\n",
       " \"The packaging inside is torn. I'm not sure if it's old\",\n",
       " 'Cause white residual on my face which left me embrassed like I am having dry skin, there is a lot of products that can give you a shiny look without the residual white scabs!',\n",
       " 'Opened item sent. This is not brand new. Manufacture tape is torn and scotch taped over. Buyers beware.',\n",
       " 'Result we’re not as expected or as advertise.. to the contrary skin had a dry sensation and started to peel..👎',\n",
       " 'Product came with packaging seal open. Had indications of being used previously. Very disappointed, was looking forward to this product.',\n",
       " 'This product is garbage. It’s water with oil. I saw it did nothing to my skin so I stopped using it and after a few days of sitting found it with a yellow layer on top and watery liquid in the bottom',\n",
       " \"Not what's it supported as advertised ❗😡\",\n",
       " 'Reasons why is not a good product:\\n1- The smell is so strong that cause me allergy.\\n2- It feels greasy.\\n3- Does not feel glow or anything similar.\\n4- No accuracy on the reviews you see here.\\n\\nWaste of money.',\n",
       " 'Intense Synthetic Fragrance. Will not be able to use, Please have an Unscented or Natural Essence.',\n",
       " \"I was so excited to try this spray after hearing such great things.\\nThe spray smells so bad, it's a very strong perfume scent... so strong you can taste it.\\nI cannot get past the smell to know if it's good for the skin.\\nReturning\",\n",
       " 'It has ruined my skin completely. Do yourself a favor and throw it in a trash',\n",
       " 'It broke my face out',\n",
       " 'This is a waste of money. I fell for the social media ads. Don’t do it girl. It’s NOT worth the cheap price.',\n",
       " 'Don’t waste your money. Buy some rosehip oil. It does more with half the price tag',\n",
       " \"Exactly what the title says... Nothing.. no glow, no moisturizer, and most definitely doesn't keep my make-up looking fresh and good longer one my face\",\n",
       " 'Product was delivered with no lid and no packaging. Product looks like someone used it up. I have to return it. Very Disappointed.',\n",
       " 'nothing was wrong when the product was delivered to me function wise. however, they changed their formula to be “vegan” and all i got now was an overpowering scent that had no moisture whatsoever. so sad bc the og formula was god tier and i looked like a glazed donut (which is what i was going for) for the longest…hopefully i can find a different spray that was just as good as the og',\n",
       " \"I bought this because it said it gives you a moist look I have been using it twice a day and I don't see or feel a difference just glad I got it on sale\",\n",
       " 'I bought this after watching Carly Bybel’s Clean Girl Makeup Tutorial and it’s nothing like she described. I tried it by itself, layered, after makeup, etc. and it basically does nothing. It smells really nice but that’s about it. Definitely not worth $30. I’ll stick to MAC Fix+.']"
      ]
     },
     "execution_count": 20,
     "metadata": {},
     "output_type": "execute_result"
    }
   ],
   "source": [
    "one = []\n",
    "for n in range(1,11):\n",
    "    driver.get(f'https://www.amazon.com/dalba-Piedmont-Light-weight-Moisturizer-Comedogenic/product-reviews/B0BFQ9RD5B/ref=cm_cr_getr_d_paging_btm_prev_1?ie=UTF8&reviewerType=all_reviews&filterByStar=one_star&pageNumber={n}')\n",
    "    for i in driver.find_elements(By.CSS_SELECTOR, 'div.a-section.review.aok-relative'):\n",
    "        one.append(i.find_element(By.CSS_SELECTOR,'span.a-size-base.review-text.review-text-content').text)\n",
    "one\n",
    "print(len(one))"
   ]
  },
  {
   "cell_type": "code",
   "execution_count": 21,
   "metadata": {},
   "outputs": [
    {
     "name": "stdout",
     "output_type": "stream",
     "text": [
      "100\n"
     ]
    }
   ],
   "source": []
  },
  {
   "cell_type": "markdown",
   "metadata": {},
   "source": [
    "### 2점"
   ]
  },
  {
   "cell_type": "code",
   "execution_count": 22,
   "metadata": {},
   "outputs": [
    {
     "name": "stdout",
     "output_type": "stream",
     "text": [
      "100\n"
     ]
    }
   ],
   "source": [
    "two = []\n",
    "for n in range(1,11):\n",
    "    driver.get(f'https://www.amazon.com/dalba-Piedmont-Light-weight-Moisturizer-Comedogenic/product-reviews/B0BFQ9RD5B/ref=cm_cr_arp_d_viewopt_sr?ie=UTF8&reviewerType=all_reviews&filterByStar=two_star&pageNumber={n}')\n",
    "    for i in driver.find_elements(By.CSS_SELECTOR, 'div.a-section.review.aok-relative'):\n",
    "        two.append(i.find_element(By.CSS_SELECTOR,'span.a-size-base.review-text.review-text-content').text)\n",
    "two\n",
    "print(len(two))"
   ]
  },
  {
   "cell_type": "markdown",
   "metadata": {},
   "source": [
    "### 3점"
   ]
  },
  {
   "cell_type": "code",
   "execution_count": 23,
   "metadata": {},
   "outputs": [
    {
     "name": "stdout",
     "output_type": "stream",
     "text": [
      "100\n"
     ]
    }
   ],
   "source": [
    "three= []\n",
    "for n in range(1,11):\n",
    "    driver.get(f'https://www.amazon.com/dalba-Piedmont-Light-weight-Moisturizer-Comedogenic/product-reviews/B0BFQ9RD5B/ref=cm_cr_getr_d_paging_btm_prev_1?ie=UTF8&reviewerType=all_reviews&filterByStar=three_star&pageNumber={n}')\n",
    "    for i in driver.find_elements(By.CSS_SELECTOR, 'div.a-section.review.aok-relative'):\n",
    "        three.append(i.find_element(By.CSS_SELECTOR,'span.a-size-base.review-text.review-text-content').text)\n",
    "\n",
    "print(len(three))"
   ]
  },
  {
   "cell_type": "markdown",
   "metadata": {},
   "source": [
    "### 4점"
   ]
  },
  {
   "cell_type": "code",
   "execution_count": 24,
   "metadata": {},
   "outputs": [
    {
     "name": "stdout",
     "output_type": "stream",
     "text": [
      "100\n"
     ]
    }
   ],
   "source": [
    "four= []\n",
    "for n in range(1,11):\n",
    "    driver.get(f'https://www.amazon.com/dalba-Piedmont-Light-weight-Moisturizer-Comedogenic/product-reviews/B0BFQ9RD5B/ref=cm_cr_getr_d_paging_btm_prev_1?ie=UTF8&reviewerType=all_reviews&filterByStar=four_star&pageNumber={n}')\n",
    "    for i in driver.find_elements(By.CSS_SELECTOR, 'div.a-section.review.aok-relative'):\n",
    "        four.append(i.find_element(By.CSS_SELECTOR,'span.a-size-base.review-text.review-text-content').text)\n",
    "\n",
    "print(len(four))"
   ]
  },
  {
   "cell_type": "markdown",
   "metadata": {},
   "source": [
    "### 5점"
   ]
  },
  {
   "cell_type": "code",
   "execution_count": 25,
   "metadata": {},
   "outputs": [
    {
     "name": "stdout",
     "output_type": "stream",
     "text": [
      "100\n"
     ]
    }
   ],
   "source": [
    "five= []\n",
    "for n in range(1,11):\n",
    "    driver.get(f'https://www.amazon.com/dalba-Piedmont-Light-weight-Moisturizer-Comedogenic/product-reviews/B0BFQ9RD5B/ref=cm_cr_getr_d_paging_btm_prev_1?ie=UTF8&reviewerType=all_reviews&filterByStar=five_star&pageNumber={n}')\n",
    "    for i in driver.find_elements(By.CSS_SELECTOR, 'div.a-section.review.aok-relative'):\n",
    "        five.append(i.find_element(By.CSS_SELECTOR,'span.a-size-base.review-text.review-text-content').text)\n",
    "print(len(five))"
   ]
  },
  {
   "cell_type": "markdown",
   "metadata": {
    "jp-MarkdownHeadingCollapsed": true
   },
   "source": [
    "## DB생성"
   ]
  },
  {
   "cell_type": "code",
   "execution_count": 29,
   "metadata": {},
   "outputs": [
    {
     "data": {
      "text/html": [
       "<div>\n",
       "<style scoped>\n",
       "    .dataframe tbody tr th:only-of-type {\n",
       "        vertical-align: middle;\n",
       "    }\n",
       "\n",
       "    .dataframe tbody tr th {\n",
       "        vertical-align: top;\n",
       "    }\n",
       "\n",
       "    .dataframe thead th {\n",
       "        text-align: right;\n",
       "    }\n",
       "</style>\n",
       "<table border=\"1\" class=\"dataframe\">\n",
       "  <thead>\n",
       "    <tr style=\"text-align: right;\">\n",
       "      <th></th>\n",
       "      <th>review</th>\n",
       "      <th>star</th>\n",
       "    </tr>\n",
       "  </thead>\n",
       "  <tbody>\n",
       "    <tr>\n",
       "      <th>0</th>\n",
       "      <td>I use it and it shows your skin glow but your ...</td>\n",
       "      <td>1</td>\n",
       "    </tr>\n",
       "    <tr>\n",
       "      <th>1</th>\n",
       "      <td>If you are someone who regularly purges when t...</td>\n",
       "      <td>1</td>\n",
       "    </tr>\n",
       "    <tr>\n",
       "      <th>2</th>\n",
       "      <td>I tried so hard to like thus spray but unfortu...</td>\n",
       "      <td>1</td>\n",
       "    </tr>\n",
       "    <tr>\n",
       "      <th>3</th>\n",
       "      <td>This serum has artificial fragrance and theref...</td>\n",
       "      <td>1</td>\n",
       "    </tr>\n",
       "    <tr>\n",
       "      <th>4</th>\n",
       "      <td>First off I want to say I don’t have sensitive...</td>\n",
       "      <td>1</td>\n",
       "    </tr>\n",
       "    <tr>\n",
       "      <th>...</th>\n",
       "      <td>...</td>\n",
       "      <td>...</td>\n",
       "    </tr>\n",
       "    <tr>\n",
       "      <th>95</th>\n",
       "      <td>Exactly what the title says... Nothing.. no gl...</td>\n",
       "      <td>1</td>\n",
       "    </tr>\n",
       "    <tr>\n",
       "      <th>96</th>\n",
       "      <td>Product was delivered with no lid and no packa...</td>\n",
       "      <td>1</td>\n",
       "    </tr>\n",
       "    <tr>\n",
       "      <th>97</th>\n",
       "      <td>nothing was wrong when the product was deliver...</td>\n",
       "      <td>1</td>\n",
       "    </tr>\n",
       "    <tr>\n",
       "      <th>98</th>\n",
       "      <td>I bought this because it said it gives you a m...</td>\n",
       "      <td>1</td>\n",
       "    </tr>\n",
       "    <tr>\n",
       "      <th>99</th>\n",
       "      <td>I bought this after watching Carly Bybel’s Cle...</td>\n",
       "      <td>1</td>\n",
       "    </tr>\n",
       "  </tbody>\n",
       "</table>\n",
       "<p>100 rows × 2 columns</p>\n",
       "</div>"
      ],
      "text/plain": [
       "                                               review  star\n",
       "0   I use it and it shows your skin glow but your ...     1\n",
       "1   If you are someone who regularly purges when t...     1\n",
       "2   I tried so hard to like thus spray but unfortu...     1\n",
       "3   This serum has artificial fragrance and theref...     1\n",
       "4   First off I want to say I don’t have sensitive...     1\n",
       "..                                                ...   ...\n",
       "95  Exactly what the title says... Nothing.. no gl...     1\n",
       "96  Product was delivered with no lid and no packa...     1\n",
       "97  nothing was wrong when the product was deliver...     1\n",
       "98  I bought this because it said it gives you a m...     1\n",
       "99  I bought this after watching Carly Bybel’s Cle...     1\n",
       "\n",
       "[100 rows x 2 columns]"
      ]
     },
     "execution_count": 29,
     "metadata": {},
     "output_type": "execute_result"
    }
   ],
   "source": [
    "import pandas as pd\n",
    "one_df= pd.DataFrame(one, columns=['review'])\n",
    "one_df['star'] = 1\n",
    "one_df"
   ]
  },
  {
   "cell_type": "code",
   "execution_count": 30,
   "metadata": {},
   "outputs": [
    {
     "data": {
      "text/html": [
       "<div>\n",
       "<style scoped>\n",
       "    .dataframe tbody tr th:only-of-type {\n",
       "        vertical-align: middle;\n",
       "    }\n",
       "\n",
       "    .dataframe tbody tr th {\n",
       "        vertical-align: top;\n",
       "    }\n",
       "\n",
       "    .dataframe thead th {\n",
       "        text-align: right;\n",
       "    }\n",
       "</style>\n",
       "<table border=\"1\" class=\"dataframe\">\n",
       "  <thead>\n",
       "    <tr style=\"text-align: right;\">\n",
       "      <th></th>\n",
       "      <th>review</th>\n",
       "      <th>star</th>\n",
       "    </tr>\n",
       "  </thead>\n",
       "  <tbody>\n",
       "    <tr>\n",
       "      <th>0</th>\n",
       "      <td>I have dry skin and was looking for a moisturi...</td>\n",
       "      <td>2</td>\n",
       "    </tr>\n",
       "    <tr>\n",
       "      <th>1</th>\n",
       "      <td>I first saw this product from a beauty influen...</td>\n",
       "      <td>2</td>\n",
       "    </tr>\n",
       "    <tr>\n",
       "      <th>2</th>\n",
       "      <td>I wanted to like this product due to its hype ...</td>\n",
       "      <td>2</td>\n",
       "    </tr>\n",
       "    <tr>\n",
       "      <th>3</th>\n",
       "      <td>I really wanted to like this , great reviews. ...</td>\n",
       "      <td>2</td>\n",
       "    </tr>\n",
       "    <tr>\n",
       "      <th>4</th>\n",
       "      <td>While it has a lovely smell and applies beauti...</td>\n",
       "      <td>2</td>\n",
       "    </tr>\n",
       "    <tr>\n",
       "      <th>...</th>\n",
       "      <td>...</td>\n",
       "      <td>...</td>\n",
       "    </tr>\n",
       "    <tr>\n",
       "      <th>95</th>\n",
       "      <td>Sinceramente se han lucido en publicidad y no ...</td>\n",
       "      <td>2</td>\n",
       "    </tr>\n",
       "    <tr>\n",
       "      <th>96</th>\n",
       "      <td>No deja ese efecto flow que todos dicen. Es un...</td>\n",
       "      <td>2</td>\n",
       "    </tr>\n",
       "    <tr>\n",
       "      <th>97</th>\n",
       "      <td>Lo venden como un producto que deja la piel ra...</td>\n",
       "      <td>2</td>\n",
       "    </tr>\n",
       "    <tr>\n",
       "      <th>98</th>\n",
       "      <td>口コミが良かったので購入。\\n一回しか使ってないので効果はまだ分からないけど匂いがきついです...</td>\n",
       "      <td>2</td>\n",
       "    </tr>\n",
       "    <tr>\n",
       "      <th>99</th>\n",
       "      <td>There is no glow, nothing at all in fact readi...</td>\n",
       "      <td>2</td>\n",
       "    </tr>\n",
       "  </tbody>\n",
       "</table>\n",
       "<p>100 rows × 2 columns</p>\n",
       "</div>"
      ],
      "text/plain": [
       "                                               review  star\n",
       "0   I have dry skin and was looking for a moisturi...     2\n",
       "1   I first saw this product from a beauty influen...     2\n",
       "2   I wanted to like this product due to its hype ...     2\n",
       "3   I really wanted to like this , great reviews. ...     2\n",
       "4   While it has a lovely smell and applies beauti...     2\n",
       "..                                                ...   ...\n",
       "95  Sinceramente se han lucido en publicidad y no ...     2\n",
       "96  No deja ese efecto flow que todos dicen. Es un...     2\n",
       "97  Lo venden como un producto que deja la piel ra...     2\n",
       "98  口コミが良かったので購入。\\n一回しか使ってないので効果はまだ分からないけど匂いがきついです...     2\n",
       "99  There is no glow, nothing at all in fact readi...     2\n",
       "\n",
       "[100 rows x 2 columns]"
      ]
     },
     "execution_count": 30,
     "metadata": {},
     "output_type": "execute_result"
    }
   ],
   "source": [
    "import pandas as pd\n",
    "two_df= pd.DataFrame(two, columns=['review'])\n",
    "two_df['star'] = 2\n",
    "two_df"
   ]
  },
  {
   "cell_type": "code",
   "execution_count": 31,
   "metadata": {},
   "outputs": [
    {
     "data": {
      "text/html": [
       "<div>\n",
       "<style scoped>\n",
       "    .dataframe tbody tr th:only-of-type {\n",
       "        vertical-align: middle;\n",
       "    }\n",
       "\n",
       "    .dataframe tbody tr th {\n",
       "        vertical-align: top;\n",
       "    }\n",
       "\n",
       "    .dataframe thead th {\n",
       "        text-align: right;\n",
       "    }\n",
       "</style>\n",
       "<table border=\"1\" class=\"dataframe\">\n",
       "  <thead>\n",
       "    <tr style=\"text-align: right;\">\n",
       "      <th></th>\n",
       "      <th>review</th>\n",
       "      <th>star</th>\n",
       "    </tr>\n",
       "  </thead>\n",
       "  <tbody>\n",
       "    <tr>\n",
       "      <th>0</th>\n",
       "      <td>NOT eczema prone/dry/sensitive skin.\\n\\nCasual...</td>\n",
       "      <td>3</td>\n",
       "    </tr>\n",
       "    <tr>\n",
       "      <th>1</th>\n",
       "      <td>I tried this spray several times and each time...</td>\n",
       "      <td>3</td>\n",
       "    </tr>\n",
       "    <tr>\n",
       "      <th>2</th>\n",
       "      <td>This product burns! I shaked it before I used ...</td>\n",
       "      <td>3</td>\n",
       "    </tr>\n",
       "    <tr>\n",
       "      <th>3</th>\n",
       "      <td>I love face mists so I decided to try this one...</td>\n",
       "      <td>3</td>\n",
       "    </tr>\n",
       "    <tr>\n",
       "      <th>4</th>\n",
       "      <td>Not sure about this. It's nice when I spray in...</td>\n",
       "      <td>3</td>\n",
       "    </tr>\n",
       "    <tr>\n",
       "      <th>...</th>\n",
       "      <td>...</td>\n",
       "      <td>...</td>\n",
       "    </tr>\n",
       "    <tr>\n",
       "      <th>95</th>\n",
       "      <td>Good</td>\n",
       "      <td>3</td>\n",
       "    </tr>\n",
       "    <tr>\n",
       "      <th>96</th>\n",
       "      <td>It's not worth the hype.</td>\n",
       "      <td>3</td>\n",
       "    </tr>\n",
       "    <tr>\n",
       "      <th>97</th>\n",
       "      <td>スプレータイプの保湿力の高い化粧水が欲しくて購入しました。\\n・粒子はそこまで細かくはありま...</td>\n",
       "      <td>3</td>\n",
       "    </tr>\n",
       "    <tr>\n",
       "      <th>98</th>\n",
       "      <td>I'm combining this serum with other products f...</td>\n",
       "      <td>3</td>\n",
       "    </tr>\n",
       "    <tr>\n",
       "      <th>99</th>\n",
       "      <td>メイクの仕上げやリフレッシュしたいときに使っています！\\nコンパクトなので旅行のときなどにも...</td>\n",
       "      <td>3</td>\n",
       "    </tr>\n",
       "  </tbody>\n",
       "</table>\n",
       "<p>100 rows × 2 columns</p>\n",
       "</div>"
      ],
      "text/plain": [
       "                                               review  star\n",
       "0   NOT eczema prone/dry/sensitive skin.\\n\\nCasual...     3\n",
       "1   I tried this spray several times and each time...     3\n",
       "2   This product burns! I shaked it before I used ...     3\n",
       "3   I love face mists so I decided to try this one...     3\n",
       "4   Not sure about this. It's nice when I spray in...     3\n",
       "..                                                ...   ...\n",
       "95                                               Good     3\n",
       "96                           It's not worth the hype.     3\n",
       "97  スプレータイプの保湿力の高い化粧水が欲しくて購入しました。\\n・粒子はそこまで細かくはありま...     3\n",
       "98  I'm combining this serum with other products f...     3\n",
       "99  メイクの仕上げやリフレッシュしたいときに使っています！\\nコンパクトなので旅行のときなどにも...     3\n",
       "\n",
       "[100 rows x 2 columns]"
      ]
     },
     "execution_count": 31,
     "metadata": {},
     "output_type": "execute_result"
    }
   ],
   "source": [
    "import pandas as pd\n",
    "three_df= pd.DataFrame(three, columns=['review'])\n",
    "three_df['star'] = 3\n",
    "three_df"
   ]
  },
  {
   "cell_type": "code",
   "execution_count": 32,
   "metadata": {},
   "outputs": [
    {
     "data": {
      "text/html": [
       "<div>\n",
       "<style scoped>\n",
       "    .dataframe tbody tr th:only-of-type {\n",
       "        vertical-align: middle;\n",
       "    }\n",
       "\n",
       "    .dataframe tbody tr th {\n",
       "        vertical-align: top;\n",
       "    }\n",
       "\n",
       "    .dataframe thead th {\n",
       "        text-align: right;\n",
       "    }\n",
       "</style>\n",
       "<table border=\"1\" class=\"dataframe\">\n",
       "  <thead>\n",
       "    <tr style=\"text-align: right;\">\n",
       "      <th></th>\n",
       "      <th>review</th>\n",
       "      <th>star</th>\n",
       "    </tr>\n",
       "  </thead>\n",
       "  <tbody>\n",
       "    <tr>\n",
       "      <th>0</th>\n",
       "      <td>Edit 2/13/24: After two weeks of use, I wanted...</td>\n",
       "      <td>4</td>\n",
       "    </tr>\n",
       "    <tr>\n",
       "      <th>1</th>\n",
       "      <td>Wanted to love this product. Been researching ...</td>\n",
       "      <td>4</td>\n",
       "    </tr>\n",
       "    <tr>\n",
       "      <th>2</th>\n",
       "      <td>Para mi buen producto lo compraría nuevamente</td>\n",
       "      <td>4</td>\n",
       "    </tr>\n",
       "    <tr>\n",
       "      <th>3</th>\n",
       "      <td>I recently tried d'Alba Italian White Truffle ...</td>\n",
       "      <td>4</td>\n",
       "    </tr>\n",
       "    <tr>\n",
       "      <th>4</th>\n",
       "      <td>Love this product very moisturizing light, use...</td>\n",
       "      <td>4</td>\n",
       "    </tr>\n",
       "    <tr>\n",
       "      <th>...</th>\n",
       "      <td>...</td>\n",
       "      <td>...</td>\n",
       "    </tr>\n",
       "    <tr>\n",
       "      <th>95</th>\n",
       "      <td>If you’re looking for a lightweight mist/prime...</td>\n",
       "      <td>4</td>\n",
       "    </tr>\n",
       "    <tr>\n",
       "      <th>96</th>\n",
       "      <td>I like the glow it gives your face. Very light...</td>\n",
       "      <td>4</td>\n",
       "    </tr>\n",
       "    <tr>\n",
       "      <th>97</th>\n",
       "      <td>Great product!</td>\n",
       "      <td>4</td>\n",
       "    </tr>\n",
       "    <tr>\n",
       "      <th>98</th>\n",
       "      <td>I feel like this product is just okay. I would...</td>\n",
       "      <td>4</td>\n",
       "    </tr>\n",
       "    <tr>\n",
       "      <th>99</th>\n",
       "      <td>EDIT: The company contacted me after seeing my...</td>\n",
       "      <td>4</td>\n",
       "    </tr>\n",
       "  </tbody>\n",
       "</table>\n",
       "<p>100 rows × 2 columns</p>\n",
       "</div>"
      ],
      "text/plain": [
       "                                               review  star\n",
       "0   Edit 2/13/24: After two weeks of use, I wanted...     4\n",
       "1   Wanted to love this product. Been researching ...     4\n",
       "2       Para mi buen producto lo compraría nuevamente     4\n",
       "3   I recently tried d'Alba Italian White Truffle ...     4\n",
       "4   Love this product very moisturizing light, use...     4\n",
       "..                                                ...   ...\n",
       "95  If you’re looking for a lightweight mist/prime...     4\n",
       "96  I like the glow it gives your face. Very light...     4\n",
       "97                                     Great product!     4\n",
       "98  I feel like this product is just okay. I would...     4\n",
       "99  EDIT: The company contacted me after seeing my...     4\n",
       "\n",
       "[100 rows x 2 columns]"
      ]
     },
     "execution_count": 32,
     "metadata": {},
     "output_type": "execute_result"
    }
   ],
   "source": [
    "import pandas as pd\n",
    "four_df= pd.DataFrame(four, columns=['review'])\n",
    "four_df['star'] = 4\n",
    "four_df"
   ]
  },
  {
   "cell_type": "code",
   "execution_count": 33,
   "metadata": {},
   "outputs": [
    {
     "data": {
      "text/html": [
       "<div>\n",
       "<style scoped>\n",
       "    .dataframe tbody tr th:only-of-type {\n",
       "        vertical-align: middle;\n",
       "    }\n",
       "\n",
       "    .dataframe tbody tr th {\n",
       "        vertical-align: top;\n",
       "    }\n",
       "\n",
       "    .dataframe thead th {\n",
       "        text-align: right;\n",
       "    }\n",
       "</style>\n",
       "<table border=\"1\" class=\"dataframe\">\n",
       "  <thead>\n",
       "    <tr style=\"text-align: right;\">\n",
       "      <th></th>\n",
       "      <th>review</th>\n",
       "      <th>star</th>\n",
       "    </tr>\n",
       "  </thead>\n",
       "  <tbody>\n",
       "    <tr>\n",
       "      <th>0</th>\n",
       "      <td>I recently incorporated a beauty spray into my...</td>\n",
       "      <td>5</td>\n",
       "    </tr>\n",
       "    <tr>\n",
       "      <th>1</th>\n",
       "      <td>The Nice Truffle Mist Facial Spray is a luxuri...</td>\n",
       "      <td>5</td>\n",
       "    </tr>\n",
       "    <tr>\n",
       "      <th>2</th>\n",
       "      <td>I made this purchase on an influencer recommen...</td>\n",
       "      <td>5</td>\n",
       "    </tr>\n",
       "    <tr>\n",
       "      <th>3</th>\n",
       "      <td>The first day I used it I couldn’t believe how...</td>\n",
       "      <td>5</td>\n",
       "    </tr>\n",
       "    <tr>\n",
       "      <th>4</th>\n",
       "      <td>So I'm a face care newbie at 52. I've always h...</td>\n",
       "      <td>5</td>\n",
       "    </tr>\n",
       "    <tr>\n",
       "      <th>...</th>\n",
       "      <td>...</td>\n",
       "      <td>...</td>\n",
       "    </tr>\n",
       "    <tr>\n",
       "      <th>95</th>\n",
       "      <td>This was recommended by “ PAINTED BY SPENCER” ...</td>\n",
       "      <td>5</td>\n",
       "    </tr>\n",
       "    <tr>\n",
       "      <th>96</th>\n",
       "      <td>Deja un rico aroma y hidrata</td>\n",
       "      <td>5</td>\n",
       "    </tr>\n",
       "    <tr>\n",
       "      <th>97</th>\n",
       "      <td>It’s work very well I recommend it 🥰🥰🥰🥰 great ...</td>\n",
       "      <td>5</td>\n",
       "    </tr>\n",
       "    <tr>\n",
       "      <th>98</th>\n",
       "      <td>This really melts your makeup together as sett...</td>\n",
       "      <td>5</td>\n",
       "    </tr>\n",
       "    <tr>\n",
       "      <th>99</th>\n",
       "      <td>I was not expecting to like this product as mu...</td>\n",
       "      <td>5</td>\n",
       "    </tr>\n",
       "  </tbody>\n",
       "</table>\n",
       "<p>100 rows × 2 columns</p>\n",
       "</div>"
      ],
      "text/plain": [
       "                                               review  star\n",
       "0   I recently incorporated a beauty spray into my...     5\n",
       "1   The Nice Truffle Mist Facial Spray is a luxuri...     5\n",
       "2   I made this purchase on an influencer recommen...     5\n",
       "3   The first day I used it I couldn’t believe how...     5\n",
       "4   So I'm a face care newbie at 52. I've always h...     5\n",
       "..                                                ...   ...\n",
       "95  This was recommended by “ PAINTED BY SPENCER” ...     5\n",
       "96                       Deja un rico aroma y hidrata     5\n",
       "97  It’s work very well I recommend it 🥰🥰🥰🥰 great ...     5\n",
       "98  This really melts your makeup together as sett...     5\n",
       "99  I was not expecting to like this product as mu...     5\n",
       "\n",
       "[100 rows x 2 columns]"
      ]
     },
     "execution_count": 33,
     "metadata": {},
     "output_type": "execute_result"
    }
   ],
   "source": [
    "import pandas as pd\n",
    "five_df= pd.DataFrame(five, columns=['review'])\n",
    "five_df['star'] = 5\n",
    "five_df"
   ]
  },
  {
   "cell_type": "code",
   "execution_count": 47,
   "metadata": {},
   "outputs": [],
   "source": [
    "full_df = pd.concat([one_df,two_df,three_df,four_df,five_df],ignore_index=True)"
   ]
  },
  {
   "cell_type": "code",
   "execution_count": 36,
   "metadata": {},
   "outputs": [],
   "source": [
    "full_df.to_excel('full.xlsx')"
   ]
  },
  {
   "cell_type": "markdown",
   "metadata": {
    "jp-MarkdownHeadingCollapsed": true
   },
   "source": [
    "## 자연어 처리"
   ]
  },
  {
   "cell_type": "code",
   "execution_count": 38,
   "metadata": {},
   "outputs": [],
   "source": [
    "from nltk.tokenize import word_tokenize\n",
    "from nltk.corpus import stopwords\n",
    "from nltk.stem import PorterStemmer\n",
    "from nltk.tag import pos_tag\n",
    "from nltk.stem import WordNetLemmatizer\n",
    "from nltk.corpus import wordnet as wn"
   ]
  },
  {
   "cell_type": "code",
   "execution_count": 39,
   "metadata": {},
   "outputs": [],
   "source": [
    "full_df['review']=full_df['review'].str.lower()"
   ]
  },
  {
   "cell_type": "code",
   "execution_count": 40,
   "metadata": {},
   "outputs": [],
   "source": [
    "from collections import Counter\n",
    "## 함수 선언\n",
    "def clean_by_freq(tokenized_words, cut_off_count):\n",
    "    vocab = Counter(tokenized_words)\n",
    "    # 빈도수가 cut_off_count 이하인 단어를 제거하는 코드를 작성해 주세요\n",
    "    uncommon_words  = {key for key, value in vocab.items() if value<= cut_off_count}\n",
    "    cleaned_words =[word for word in tokenized_words if word not in uncommon_words]\n",
    "\n",
    "    return cleaned_words\n",
    "\n",
    "\n",
    "def clean_by_len(tokenized_words, cut_off_length):\n",
    "    cleaned_words = []\n",
    "    for word in tokenized_words:\n",
    "        # 길이가 cut_off_length 이하인 단어 제거하는 코드를 작성해 주세요\n",
    "        if len(word) > cut_off_length:\n",
    "            cleaned_words.append(word)\n",
    "    return cleaned_words\n",
    "\n",
    "# 불용어 제거 함수\n",
    "def clean_by_stopwords(tokenized_words, stop_words_set):\n",
    "    cleaned_words = []\n",
    "    \n",
    "    for word in tokenized_words:\n",
    "        if word not in stop_words_set:\n",
    "            cleaned_words.append(word)\n",
    "            \n",
    "    return cleaned_words\n",
    "\n",
    "# 포터 스테머 어간 추출 함수\n",
    "def stemming_by_porter(tokenized_words):\n",
    "    porter_stemmer = PorterStemmer()\n",
    "    porter_stemmed_words = []\n",
    "\n",
    "    for word in tokenized_words:\n",
    "        stem = porter_stemmer.stem(word)\n",
    "        porter_stemmed_words.append(stem)\n",
    "\n",
    "    return porter_stemmed_words\n",
    "\n",
    "\n",
    "# 품사 태깅 함수\n",
    "def pos_tagger(tokenized_sents):\n",
    "    pos_tagged_words = []\n",
    "\n",
    "    for sentence in tokenized_sents:\n",
    "        # 단어 토큰화\n",
    "        tokenized_words = word_tokenize(sentence)\n",
    "    \n",
    "        # 품사 태깅\n",
    "        pos_tagged = pos_tag(tokenized_words)\n",
    "        pos_tagged_words.extend(pos_tagged)\n",
    "    \n",
    "    return pos_tagged_words\n",
    "\n",
    "# 형용사 명사 부사 동사만 추출하는 함수\n",
    "\n",
    "def penn_to_wn(tag):\n",
    "    if tag.startswith(\"J\"):\n",
    "        return wn.ADJ\n",
    "    elif tag.startswith(\"N\"):\n",
    "        return wn.NOUN\n",
    "    elif tag.startswith(\"R\"):\n",
    "        return wn.ADV\n",
    "    elif tag.startswith(\"V\"):\n",
    "        return wn.VERB\n",
    "    else:\n",
    "        return tag\n",
    "    \n",
    "def words_lemmatizer(pos_tagged_words):\n",
    "    lemmatizer = WordNetLemmatizer()\n",
    "    lemmatized_words = []\n",
    "    for word, tag in pos_tagged_words:\n",
    "        wn_tag = penn_to_wn(tag)\n",
    "        if wn_tag in (wn.NOUN,wn.ADJ,wn.ADV,wn.VERB):\n",
    "            stem = lemmatizer.lemmatize(word, wn_tag)\n",
    "            lemmatized_words.append(stem)\n",
    "        else :\n",
    "            lemmatized_words.append(word)\n",
    "    return lemmatized_words"
   ]
  },
  {
   "cell_type": "code",
   "execution_count": null,
   "metadata": {},
   "outputs": [],
   "source": [
    "# 2. 토큰화: 각 별점별로 수집한 리뷰 데이터를 토큰화하세요.\n",
    "# o 토큰화할 때 다음 규칙을 적용하세요:\n",
    "# ▪ 등장 빈도가 10회 미만인 토큰은 삭제하세요.\n",
    "# ▪ 길이가 2자 이하인 토큰은 삭제하세요.\n",
    "# ▪ nltk에서 제공하는 불용어(stopwords)는 모두 제거하세요.\n",
    "# ▪ 각 토큰에 대해 표제어(lemmatization) 처리를 하세요."
   ]
  },
  {
   "cell_type": "code",
   "execution_count": 48,
   "metadata": {},
   "outputs": [
    {
     "data": {
      "text/html": [
       "<div>\n",
       "<style scoped>\n",
       "    .dataframe tbody tr th:only-of-type {\n",
       "        vertical-align: middle;\n",
       "    }\n",
       "\n",
       "    .dataframe tbody tr th {\n",
       "        vertical-align: top;\n",
       "    }\n",
       "\n",
       "    .dataframe thead th {\n",
       "        text-align: right;\n",
       "    }\n",
       "</style>\n",
       "<table border=\"1\" class=\"dataframe\">\n",
       "  <thead>\n",
       "    <tr style=\"text-align: right;\">\n",
       "      <th></th>\n",
       "      <th>review</th>\n",
       "      <th>star</th>\n",
       "      <th>word_tokens</th>\n",
       "    </tr>\n",
       "  </thead>\n",
       "  <tbody>\n",
       "    <tr>\n",
       "      <th>0</th>\n",
       "      <td>I use it and it shows your skin glow but your ...</td>\n",
       "      <td>1</td>\n",
       "      <td>[I, use, it, and, it, shows, your, skin, glow,...</td>\n",
       "    </tr>\n",
       "    <tr>\n",
       "      <th>1</th>\n",
       "      <td>If you are someone who regularly purges when t...</td>\n",
       "      <td>1</td>\n",
       "      <td>[If, you, are, someone, who, regularly, purges...</td>\n",
       "    </tr>\n",
       "    <tr>\n",
       "      <th>2</th>\n",
       "      <td>I tried so hard to like thus spray but unfortu...</td>\n",
       "      <td>1</td>\n",
       "      <td>[I, tried, so, hard, to, like, thus, spray, bu...</td>\n",
       "    </tr>\n",
       "    <tr>\n",
       "      <th>3</th>\n",
       "      <td>This serum has artificial fragrance and theref...</td>\n",
       "      <td>1</td>\n",
       "      <td>[This, serum, has, artificial, fragrance, and,...</td>\n",
       "    </tr>\n",
       "    <tr>\n",
       "      <th>4</th>\n",
       "      <td>First off I want to say I don’t have sensitive...</td>\n",
       "      <td>1</td>\n",
       "      <td>[First, off, I, want, to, say, I, don, ’, t, h...</td>\n",
       "    </tr>\n",
       "    <tr>\n",
       "      <th>...</th>\n",
       "      <td>...</td>\n",
       "      <td>...</td>\n",
       "      <td>...</td>\n",
       "    </tr>\n",
       "    <tr>\n",
       "      <th>495</th>\n",
       "      <td>This was recommended by “ PAINTED BY SPENCER” ...</td>\n",
       "      <td>5</td>\n",
       "      <td>[This, was, recommended, by, “, PAINTED, BY, S...</td>\n",
       "    </tr>\n",
       "    <tr>\n",
       "      <th>496</th>\n",
       "      <td>Deja un rico aroma y hidrata</td>\n",
       "      <td>5</td>\n",
       "      <td>[Deja, un, rico, aroma, y, hidrata]</td>\n",
       "    </tr>\n",
       "    <tr>\n",
       "      <th>497</th>\n",
       "      <td>It’s work very well I recommend it 🥰🥰🥰🥰 great ...</td>\n",
       "      <td>5</td>\n",
       "      <td>[It, ’, s, work, very, well, I, recommend, it,...</td>\n",
       "    </tr>\n",
       "    <tr>\n",
       "      <th>498</th>\n",
       "      <td>This really melts your makeup together as sett...</td>\n",
       "      <td>5</td>\n",
       "      <td>[This, really, melts, your, makeup, together, ...</td>\n",
       "    </tr>\n",
       "    <tr>\n",
       "      <th>499</th>\n",
       "      <td>I was not expecting to like this product as mu...</td>\n",
       "      <td>5</td>\n",
       "      <td>[I, was, not, expecting, to, like, this, produ...</td>\n",
       "    </tr>\n",
       "  </tbody>\n",
       "</table>\n",
       "<p>500 rows × 3 columns</p>\n",
       "</div>"
      ],
      "text/plain": [
       "                                                review  star  \\\n",
       "0    I use it and it shows your skin glow but your ...     1   \n",
       "1    If you are someone who regularly purges when t...     1   \n",
       "2    I tried so hard to like thus spray but unfortu...     1   \n",
       "3    This serum has artificial fragrance and theref...     1   \n",
       "4    First off I want to say I don’t have sensitive...     1   \n",
       "..                                                 ...   ...   \n",
       "495  This was recommended by “ PAINTED BY SPENCER” ...     5   \n",
       "496                       Deja un rico aroma y hidrata     5   \n",
       "497  It’s work very well I recommend it 🥰🥰🥰🥰 great ...     5   \n",
       "498  This really melts your makeup together as sett...     5   \n",
       "499  I was not expecting to like this product as mu...     5   \n",
       "\n",
       "                                           word_tokens  \n",
       "0    [I, use, it, and, it, shows, your, skin, glow,...  \n",
       "1    [If, you, are, someone, who, regularly, purges...  \n",
       "2    [I, tried, so, hard, to, like, thus, spray, bu...  \n",
       "3    [This, serum, has, artificial, fragrance, and,...  \n",
       "4    [First, off, I, want, to, say, I, don, ’, t, h...  \n",
       "..                                                 ...  \n",
       "495  [This, was, recommended, by, “, PAINTED, BY, S...  \n",
       "496                [Deja, un, rico, aroma, y, hidrata]  \n",
       "497  [It, ’, s, work, very, well, I, recommend, it,...  \n",
       "498  [This, really, melts, your, makeup, together, ...  \n",
       "499  [I, was, not, expecting, to, like, this, produ...  \n",
       "\n",
       "[500 rows x 3 columns]"
      ]
     },
     "execution_count": 48,
     "metadata": {},
     "output_type": "execute_result"
    }
   ],
   "source": [
    "full_df['word_tokens']=full_df['review'].apply(word_tokenize)\n",
    "full_df\n"
   ]
  },
  {
   "cell_type": "code",
   "execution_count": 57,
   "metadata": {},
   "outputs": [
    {
     "data": {
      "text/html": [
       "<div>\n",
       "<style scoped>\n",
       "    .dataframe tbody tr th:only-of-type {\n",
       "        vertical-align: middle;\n",
       "    }\n",
       "\n",
       "    .dataframe tbody tr th {\n",
       "        vertical-align: top;\n",
       "    }\n",
       "\n",
       "    .dataframe thead th {\n",
       "        text-align: right;\n",
       "    }\n",
       "</style>\n",
       "<table border=\"1\" class=\"dataframe\">\n",
       "  <thead>\n",
       "    <tr style=\"text-align: right;\">\n",
       "      <th></th>\n",
       "      <th>star</th>\n",
       "      <th>review</th>\n",
       "    </tr>\n",
       "  </thead>\n",
       "  <tbody>\n",
       "    <tr>\n",
       "      <th>0</th>\n",
       "      <td>1</td>\n",
       "      <td>I use it and it shows your skin glow but your ...</td>\n",
       "    </tr>\n",
       "    <tr>\n",
       "      <th>1</th>\n",
       "      <td>2</td>\n",
       "      <td>I have dry skin and was looking for a moisturi...</td>\n",
       "    </tr>\n",
       "    <tr>\n",
       "      <th>2</th>\n",
       "      <td>3</td>\n",
       "      <td>NOT eczema prone/dry/sensitive skin. Casually ...</td>\n",
       "    </tr>\n",
       "    <tr>\n",
       "      <th>3</th>\n",
       "      <td>4</td>\n",
       "      <td>Edit 2/13/24: After two weeks of use, I wanted...</td>\n",
       "    </tr>\n",
       "    <tr>\n",
       "      <th>4</th>\n",
       "      <td>5</td>\n",
       "      <td>I recently incorporated a beauty spray into my...</td>\n",
       "    </tr>\n",
       "  </tbody>\n",
       "</table>\n",
       "</div>"
      ],
      "text/plain": [
       "   star                                             review\n",
       "0     1  I use it and it shows your skin glow but your ...\n",
       "1     2  I have dry skin and was looking for a moisturi...\n",
       "2     3  NOT eczema prone/dry/sensitive skin. Casually ...\n",
       "3     4  Edit 2/13/24: After two weeks of use, I wanted...\n",
       "4     5  I recently incorporated a beauty spray into my..."
      ]
     },
     "execution_count": 57,
     "metadata": {},
     "output_type": "execute_result"
    }
   ],
   "source": [
    "full_df['review'] = full_df['review'].apply(lambda x: x.split())\n",
    "\n",
    "\n",
    "df_grouped = full_df.groupby('star')['review'].apply(lambda x: ' '.join(sum(x, []))).reset_index()\n",
    "\n",
    "\n",
    "df_grouped"
   ]
  },
  {
   "cell_type": "code",
   "execution_count": 58,
   "metadata": {},
   "outputs": [],
   "source": [
    "df_grouped['review']=df_grouped['review'].str.lower()\n"
   ]
  },
  {
   "cell_type": "code",
   "execution_count": 61,
   "metadata": {},
   "outputs": [
    {
     "data": {
      "text/html": [
       "<div>\n",
       "<style scoped>\n",
       "    .dataframe tbody tr th:only-of-type {\n",
       "        vertical-align: middle;\n",
       "    }\n",
       "\n",
       "    .dataframe tbody tr th {\n",
       "        vertical-align: top;\n",
       "    }\n",
       "\n",
       "    .dataframe thead th {\n",
       "        text-align: right;\n",
       "    }\n",
       "</style>\n",
       "<table border=\"1\" class=\"dataframe\">\n",
       "  <thead>\n",
       "    <tr style=\"text-align: right;\">\n",
       "      <th></th>\n",
       "      <th>star</th>\n",
       "      <th>review</th>\n",
       "      <th>word_tokens</th>\n",
       "    </tr>\n",
       "  </thead>\n",
       "  <tbody>\n",
       "    <tr>\n",
       "      <th>0</th>\n",
       "      <td>1</td>\n",
       "      <td>i use it and it shows your skin glow but your ...</td>\n",
       "      <td>[i, use, it, and, it, shows, your, skin, glow,...</td>\n",
       "    </tr>\n",
       "    <tr>\n",
       "      <th>1</th>\n",
       "      <td>2</td>\n",
       "      <td>i have dry skin and was looking for a moisturi...</td>\n",
       "      <td>[i, have, dry, skin, and, was, looking, for, a...</td>\n",
       "    </tr>\n",
       "    <tr>\n",
       "      <th>2</th>\n",
       "      <td>3</td>\n",
       "      <td>not eczema prone/dry/sensitive skin. casually ...</td>\n",
       "      <td>[not, eczema, prone/dry/sensitive, skin, ., ca...</td>\n",
       "    </tr>\n",
       "    <tr>\n",
       "      <th>3</th>\n",
       "      <td>4</td>\n",
       "      <td>edit 2/13/24: after two weeks of use, i wanted...</td>\n",
       "      <td>[edit, 2/13/24, :, after, two, weeks, of, use,...</td>\n",
       "    </tr>\n",
       "    <tr>\n",
       "      <th>4</th>\n",
       "      <td>5</td>\n",
       "      <td>i recently incorporated a beauty spray into my...</td>\n",
       "      <td>[i, recently, incorporated, a, beauty, spray, ...</td>\n",
       "    </tr>\n",
       "  </tbody>\n",
       "</table>\n",
       "</div>"
      ],
      "text/plain": [
       "   star                                             review  \\\n",
       "0     1  i use it and it shows your skin glow but your ...   \n",
       "1     2  i have dry skin and was looking for a moisturi...   \n",
       "2     3  not eczema prone/dry/sensitive skin. casually ...   \n",
       "3     4  edit 2/13/24: after two weeks of use, i wanted...   \n",
       "4     5  i recently incorporated a beauty spray into my...   \n",
       "\n",
       "                                         word_tokens  \n",
       "0  [i, use, it, and, it, shows, your, skin, glow,...  \n",
       "1  [i, have, dry, skin, and, was, looking, for, a...  \n",
       "2  [not, eczema, prone/dry/sensitive, skin, ., ca...  \n",
       "3  [edit, 2/13/24, :, after, two, weeks, of, use,...  \n",
       "4  [i, recently, incorporated, a, beauty, spray, ...  "
      ]
     },
     "execution_count": 61,
     "metadata": {},
     "output_type": "execute_result"
    }
   ],
   "source": [
    "df_grouped['word_tokens']=df_grouped['review'].apply(word_tokenize)\n",
    "df_grouped"
   ]
  },
  {
   "cell_type": "code",
   "execution_count": 54,
   "metadata": {},
   "outputs": [
    {
     "data": {
      "text/plain": [
       "0    I use it and it shows your skin glow but your ...\n",
       "Name: word_tokens, dtype: object"
      ]
     },
     "execution_count": 54,
     "metadata": {},
     "output_type": "execute_result"
    }
   ],
   "source": [
    "combined_word_tokens_all = ' '.join(sum(full_df['word_tokens'], []))\n",
    "\n",
    "df_combined = pd.DataFrame({'star': [1], 'word_tokens': [combined_word_tokens_all]})\n",
    "\n",
    "df_combined"
   ]
  },
  {
   "cell_type": "code",
   "execution_count": 1,
   "metadata": {},
   "outputs": [
    {
     "ename": "NameError",
     "evalue": "name 'df_grouped' is not defined",
     "output_type": "error",
     "traceback": [
      "\u001b[1;31m---------------------------------------------------------------------------\u001b[0m",
      "\u001b[1;31mNameError\u001b[0m                                 Traceback (most recent call last)",
      "Cell \u001b[1;32mIn[1], line 2\u001b[0m\n\u001b[0;32m      1\u001b[0m \u001b[38;5;28;01mfrom\u001b[39;00m \u001b[38;5;21;01mnltk\u001b[39;00m\u001b[38;5;21;01m.\u001b[39;00m\u001b[38;5;21;01mtokenize\u001b[39;00m \u001b[38;5;28;01mimport\u001b[39;00m sent_tokenize\n\u001b[1;32m----> 2\u001b[0m df\u001b[38;5;241m=\u001b[39m\u001b[43mdf_grouped\u001b[49m\n\u001b[0;32m      3\u001b[0m stopwords_set \u001b[38;5;241m=\u001b[39m \u001b[38;5;28mset\u001b[39m(stopwords\u001b[38;5;241m.\u001b[39mwords(\u001b[38;5;124m'\u001b[39m\u001b[38;5;124menglish\u001b[39m\u001b[38;5;124m'\u001b[39m))\n\u001b[0;32m      5\u001b[0m df[\u001b[38;5;124m'\u001b[39m\u001b[38;5;124msent_tokens\u001b[39m\u001b[38;5;124m'\u001b[39m] \u001b[38;5;241m=\u001b[39m df[\u001b[38;5;124m'\u001b[39m\u001b[38;5;124mreview\u001b[39m\u001b[38;5;124m'\u001b[39m]\u001b[38;5;241m.\u001b[39mapply(sent_tokenize)\n",
      "\u001b[1;31mNameError\u001b[0m: name 'df_grouped' is not defined"
     ]
    }
   ],
   "source": [
    "from nltk.tokenize import sent_tokenize\n",
    "df=df_grouped\n",
    "stopwords_set = set(stopwords.words('english'))\n",
    "\n",
    "df['sent_tokens'] = df['review'].apply(sent_tokenize)\n",
    "df['pos_tagged_tokens'] = df['sent_tokens'].apply(pos_tagger)\n",
    "df['lemmatized_tokens']= df['pos_tagged_tokens'].apply(words_lemmatizer)\n",
    "df['cleaned_tokens']=df['lemmatized_tokens'].apply(lambda x: clean_by_stopwords(x,stopwords_set))\n",
    "df['cleaned_tokens']=df['cleaned_tokens'].apply(lambda x : clean_by_freq(x,10))\n",
    "df['cleaned_tokens']=df['cleaned_tokens'].apply(lambda x: clean_by_len(x,2))\n",
    "df"
   ]
  },
  {
   "cell_type": "code",
   "execution_count": 94,
   "metadata": {},
   "outputs": [],
   "source": [
    "df.to_excel('df전처리후2.xlsx')"
   ]
  },
  {
   "cell_type": "code",
   "execution_count": 88,
   "metadata": {},
   "outputs": [],
   "source": [
    "df1 = df[df['star']==1]\n",
    "df2 = df[df['star']==2]\n",
    "df3 = df[df['star']==3]\n",
    "df4 = df[df['star']==4]\n",
    "df5 = df[df['star']==5]"
   ]
  },
  {
   "cell_type": "code",
   "execution_count": 89,
   "metadata": {},
   "outputs": [
    {
     "data": {
      "text/plain": [
       "[('product', 59),\n",
       " ('skin', 44),\n",
       " ('use', 34),\n",
       " ('face', 33),\n",
       " ('smell', 30),\n",
       " ('like', 29),\n",
       " ('spray', 27),\n",
       " ('look', 21),\n",
       " ('try', 17),\n",
       " ('get', 16)]"
      ]
     },
     "execution_count": 89,
     "metadata": {},
     "output_type": "execute_result"
    }
   ],
   "source": [
    "box1 = []\n",
    "for words in df1['cleaned_tokens']:\n",
    "    box1+= words\n",
    "Counter(box1).most_common(10)"
   ]
  },
  {
   "cell_type": "code",
   "execution_count": 90,
   "metadata": {},
   "outputs": [
    {
     "data": {
      "text/plain": [
       "[('skin', 49),\n",
       " ('like', 43),\n",
       " ('use', 39),\n",
       " ('product', 36),\n",
       " ('spray', 35),\n",
       " ('smell', 31),\n",
       " ('face', 26),\n",
       " ('get', 18),\n",
       " ('make', 17),\n",
       " ('fragrance', 17)]"
      ]
     },
     "execution_count": 90,
     "metadata": {},
     "output_type": "execute_result"
    }
   ],
   "source": [
    "box2 = []\n",
    "for words in df2['cleaned_tokens']:\n",
    "    box2+= words\n",
    "Counter(box2).most_common(10)"
   ]
  },
  {
   "cell_type": "code",
   "execution_count": 91,
   "metadata": {},
   "outputs": [
    {
     "data": {
      "text/plain": [
       "[('skin', 54),\n",
       " ('product', 45),\n",
       " ('use', 43),\n",
       " ('like', 32),\n",
       " ('spray', 31),\n",
       " ('face', 30),\n",
       " ('smell', 25),\n",
       " (\"n't\", 22),\n",
       " ('give', 21),\n",
       " ('feel', 20)]"
      ]
     },
     "execution_count": 91,
     "metadata": {},
     "output_type": "execute_result"
    }
   ],
   "source": [
    "box3 = []\n",
    "for words in df3['cleaned_tokens']:\n",
    "    box3+= words\n",
    "Counter(box3).most_common(10)"
   ]
  },
  {
   "cell_type": "code",
   "execution_count": 92,
   "metadata": {},
   "outputs": [
    {
     "data": {
      "text/plain": [
       "[('skin', 60),\n",
       " ('use', 47),\n",
       " ('spray', 45),\n",
       " ('like', 44),\n",
       " ('product', 30),\n",
       " ('glow', 27),\n",
       " ('make', 26),\n",
       " ('smell', 25),\n",
       " ('feel', 24),\n",
       " ('face', 22)]"
      ]
     },
     "execution_count": 92,
     "metadata": {},
     "output_type": "execute_result"
    }
   ],
   "source": [
    "box4 = []\n",
    "for words in df4['cleaned_tokens']:\n",
    "    box4+= words\n",
    "Counter(box4).most_common(10)"
   ]
  },
  {
   "cell_type": "code",
   "execution_count": 93,
   "metadata": {},
   "outputs": [
    {
     "data": {
      "text/plain": [
       "[('skin', 91),\n",
       " ('spray', 57),\n",
       " ('use', 48),\n",
       " ('product', 47),\n",
       " ('face', 42),\n",
       " ('look', 38),\n",
       " ('love', 36),\n",
       " ('feel', 33),\n",
       " ('make', 26),\n",
       " ('glow', 25)]"
      ]
     },
     "execution_count": 93,
     "metadata": {},
     "output_type": "execute_result"
    }
   ],
   "source": [
    "box5 = []\n",
    "for words in df5['cleaned_tokens']:\n",
    "    box5+= words\n",
    "Counter(box5).most_common(10)"
   ]
  }
 ],
 "metadata": {
  "kernelspec": {
   "display_name": "Python 3 (ipykernel)",
   "language": "python",
   "name": "python3"
  },
  "language_info": {
   "codemirror_mode": {
    "name": "ipython",
    "version": 3
   },
   "file_extension": ".py",
   "mimetype": "text/x-python",
   "name": "python",
   "nbconvert_exporter": "python",
   "pygments_lexer": "ipython3",
   "version": "3.12.4"
  }
 },
 "nbformat": 4,
 "nbformat_minor": 4
}
